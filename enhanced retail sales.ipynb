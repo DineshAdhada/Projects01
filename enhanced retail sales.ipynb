{
 "cells": [
  {
   "cell_type": "code",
   "execution_count": null,
   "metadata": {},
   "outputs": [],
   "source": [
    "import os\n",
    "import pandas as pd\n",
    "from sklearn.ensemble import GradientBoostingRegressor\n",
    "from langchain.llms import OpenAI\n",
    "from langchain.prompts import PromptTemplate\n",
    "\n",
    "# Customer Input\n",
    "previous_sales = float(input(\"Enter previous month's sales: \"))\n",
    "marketing_spend = float(input(\"Enter marketing budget: \"))\n",
    "seasonality_index = float(input(\"Enter seasonality index (0-1 scale): \"))\n",
    "\n",
    "# Create DataFrame\n",
    "df = pd.DataFrame({\n",
    "    \"previous_sales\": [previous_sales],\n",
    "    \"marketing_spend\": [marketing_spend],\n",
    "    \"seasonality_index\": [seasonality_index]\n",
    "})\n",
    "\n",
    "# Predict Future Sales (Mock Example)\n",
    "model = GradientBoostingRegressor(n_estimators=200, learning_rate=0.1, random_state=42)\n",
    "model.fit(df, [previous_sales * 1.1])  # Fake training\n",
    "\n",
    "future_sales = model.predict(df)[0]\n",
    "print(f\"🔹 Predicted Future Sales: ${future_sales:.2f}\")\n",
    "\n",
    "# AI Insights\n",
    "llm = OpenAI(model_name=\"gpt-4\", openai_api_key=os.getenv(\"OPENAI_API_KEY\"))\n",
    "prompt = PromptTemplate.from_template(\n",
    "    \"Based on these trends, suggest business strategies: {data}.\"\n",
    ")\n",
    "\n",
    "response = llm(prompt.format(data=df.to_dict()))\n",
    "print(\"🔹 AI Sales Optimization Advice:\", response)\n"
   ]
  }
 ],
 "metadata": {
  "language_info": {
   "name": "python"
  }
 },
 "nbformat": 4,
 "nbformat_minor": 2
}
