{
 "cells": [
  {
   "cell_type": "code",
   "execution_count": null,
   "metadata": {},
   "outputs": [],
   "source": [
    "import os\n",
    "import pandas as pd\n",
    "from sklearn.ensemble import IsolationForest\n",
    "from langchain.llms import OpenAI\n",
    "from langchain.prompts import PromptTemplate\n",
    "\n",
    "# Customer Input\n",
    "transaction_amount = float(input(\"Enter transaction amount: \"))\n",
    "transaction_time = input(\"Enter transaction time (HH:MM format): \")\n",
    "location = input(\"Enter transaction location: \")\n",
    "\n",
    "# Create DataFrame\n",
    "df = pd.DataFrame({\n",
    "    \"amount\": [transaction_amount],\n",
    "    \"transaction_time\": [transaction_time],\n",
    "    \"location\": [location]\n",
    "})\n",
    "\n",
    "# Detect Fraud\n",
    "model = IsolationForest(contamination=0.02, random_state=42)\n",
    "df[\"fraud_score\"] = model.fit_predict(df[[\"amount\"]])  # Mock example\n",
    "\n",
    "fraud_detected = df[\"fraud_score\"][0] == -1\n",
    "print(f\"🔹 Fraud Risk: {'High' if fraud_detected else 'Low'}\")\n",
    "\n",
    "# AI Agent for Security Insights\n",
    "llm = OpenAI(model_name=\"gpt-4\", openai_api_key=os.getenv(\"OPENAI_API_KEY\"))\n",
    "prompt = PromptTemplate.from_template(\n",
    "    \"Analyze this transaction and suggest fraud prevention measures: {data}.\"\n",
    ")\n",
    "\n",
    "response = llm(prompt.format(data=df.to_dict()))\n",
    "print(\"🔹 AI Fraud Analysis:\", response)\n"
   ]
  }
 ],
 "metadata": {
  "language_info": {
   "name": "python"
  }
 },
 "nbformat": 4,
 "nbformat_minor": 2
}
