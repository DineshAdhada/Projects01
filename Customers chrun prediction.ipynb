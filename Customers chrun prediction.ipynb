{
 "cells": [
  {
   "cell_type": "code",
   "execution_count": null,
   "metadata": {},
   "outputs": [],
   "source": [
    "import os\n",
    "import pandas as pd\n",
    "from sklearn.ensemble import RandomForestClassifier\n",
    "from langchain.llms import OpenAI\n",
    "from langchain.prompts import PromptTemplate\n",
    "\n",
    "# Customer Input\n",
    "monthly_spend = float(input(\"Enter customer’s monthly spend: \"))\n",
    "contract_length = int(input(\"Enter contract length (months): \"))\n",
    "support_calls = int(input(\"Enter number of support calls: \"))\n",
    "\n",
    "# Create DataFrame\n",
    "df = pd.DataFrame({\n",
    "    \"monthly_spend\": [monthly_spend],\n",
    "    \"contract_length\": [contract_length],\n",
    "    \"support_calls\": [support_calls]\n",
    "})\n",
    "\n",
    "# Load Model (Pre-trained example)\n",
    "model = RandomForestClassifier(n_estimators=100, random_state=42)\n",
    "model.fit(df, [0])  # Fake training for demo\n",
    "\n",
    "# Predict Churn\n",
    "churn_prediction = model.predict(df)[0]\n",
    "churn_risk = \"High\" if churn_prediction else \"Low\"\n",
    "print(f\"🔹 Predicted Churn Risk: {churn_risk}\")\n",
    "\n",
    "# AI Agent for Retention Strategy\n",
    "llm = OpenAI(model_name=\"gpt-4\", openai_api_key=os.getenv(\"OPENAI_API_KEY\"))\n",
    "prompt = PromptTemplate.from_template(\n",
    "    \"Suggest strategies to retain customers with these behaviors: {data}.\"\n",
    ")\n",
    "\n",
    "response = llm(prompt.format(data=df.to_dict()))\n",
    "print(\"🔹 AI Retention Advice:\", response)\n"
   ]
  }
 ],
 "metadata": {
  "language_info": {
   "name": "python"
  }
 },
 "nbformat": 4,
 "nbformat_minor": 2
}
