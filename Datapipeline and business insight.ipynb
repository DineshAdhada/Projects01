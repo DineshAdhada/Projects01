{
 "cells": [
  {
   "cell_type": "code",
   "execution_count": null,
   "metadata": {},
   "outputs": [],
   "source": [
    "import os\n",
    "import pandas as pd\n",
    "import sqlite3\n",
    "from langchain.llms import OpenAI\n",
    "from langchain.prompts import PromptTemplate\n",
    "\n",
    "# Load API Key\n",
    "OPENAI_API_KEY = os.getenv(\"OPENAI_API_KEY\")\n",
    "\n",
    "# Customer Input\n",
    "business_name = input(\"Enter your business name: \")\n",
    "total_revenue = float(input(\"Enter total revenue: \"))\n",
    "customer_count = int(input(\"Enter number of customers: \"))\n",
    "\n",
    "# Create DataFrame\n",
    "df = pd.DataFrame({\n",
    "    \"business_name\": [business_name],\n",
    "    \"total_revenue\": [total_revenue],\n",
    "    \"customer_count\": [customer_count],\n",
    "    \"revenue_per_customer\": [total_revenue / customer_count]\n",
    "})\n",
    "\n",
    "# Store in SQLite\n",
    "conn = sqlite3.connect(\"business.db\")\n",
    "df.to_sql(\"business_metrics\", conn, if_exists=\"replace\", index=False)\n",
    "\n",
    "# AI Agent for Business Insights\n",
    "llm = OpenAI(model_name=\"gpt-4\", openai_api_key=OPENAI_API_KEY)\n",
    "prompt = PromptTemplate.from_template(\n",
    "    \"Analyze the following business data and provide key insights: {data}.\"\n",
    ")\n",
    "\n",
    "response = llm(prompt.format(data=df.to_dict()))\n",
    "print(\"🔹 AI Business Insights:\", response)\n"
   ]
  }
 ],
 "metadata": {
  "language_info": {
   "name": "python"
  }
 },
 "nbformat": 4,
 "nbformat_minor": 2
}
